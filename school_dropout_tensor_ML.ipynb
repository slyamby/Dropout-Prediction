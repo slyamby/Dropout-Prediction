{
 "cells": [
  {
   "cell_type": "markdown",
   "id": "cee59060-35d4-4979-a01b-a8e46623aff0",
   "metadata": {},
   "source": [
    "### School Dropout - Tensor ML"
   ]
  },
  {
   "cell_type": "markdown",
   "id": "bcfef4f5-7ec1-4e47-bf00-f9a4f101784f",
   "metadata": {},
   "source": [
    "### Import Relevant Libraries"
   ]
  },
  {
   "cell_type": "code",
   "execution_count": 21,
   "id": "18368491-0a74-4948-9bec-1db3fb87104c",
   "metadata": {},
   "outputs": [],
   "source": [
    "import numpy as np\n",
    "import tensorflow as tf"
   ]
  },
  {
   "cell_type": "markdown",
   "id": "7d4d9a55-d2bb-4f9a-bba5-16df6a87a1ec",
   "metadata": {},
   "source": [
    "### Data"
   ]
  },
  {
   "cell_type": "code",
   "execution_count": 23,
   "id": "2dd4a4d9-c43f-4f72-be22-d81004ba25e1",
   "metadata": {},
   "outputs": [],
   "source": [
    "# let's create a temporary variable npz to store the three data\n",
    "npz = np.load('school_dropout_data_train.npz', allow_pickle=True)\n",
    "\n",
    "# we extract the inputs using the keyword under which we saved them\n",
    "# to ensure that they are all floats, let's also take care of that\n",
    "train_inputs = npz['inputs'].astype(float)\n",
    "train_targets = npz['targets'].astype(int)\n",
    "\n",
    "npz = np.load('school_dropout_data_validation.npz', allow_pickle=True)\n",
    "validation_inputs, validation_targets = npz['inputs'].astype(float), npz['targets'].astype(int)\n",
    "\n",
    "npz = np.load('school_dropout_data_test.npz', allow_pickle=True)\n",
    "test_inputs, test_targets = npz['inputs'].astype(float), npz['targets'].astype(int)"
   ]
  },
  {
   "cell_type": "markdown",
   "id": "9385d4bf-bcac-46d2-b7a6-87ca2e7281b6",
   "metadata": {},
   "source": [
    "### Model"
   ]
  },
  {
   "cell_type": "code",
   "execution_count": 26,
   "id": "d76017a5-c874-4b97-9387-69b21d2016b2",
   "metadata": {},
   "outputs": [
    {
     "name": "stdout",
     "output_type": "stream",
     "text": [
      "Epoch 1/100\n",
      "22/22 - 1s - 23ms/step - accuracy: 0.7677 - loss: 0.5260 - val_accuracy: 0.8526 - val_loss: 0.3813\n",
      "Epoch 2/100\n",
      "22/22 - 0s - 2ms/step - accuracy: 0.8421 - loss: 0.3667 - val_accuracy: 0.8691 - val_loss: 0.3307\n",
      "Epoch 3/100\n",
      "22/22 - 0s - 2ms/step - accuracy: 0.8609 - loss: 0.3305 - val_accuracy: 0.8788 - val_loss: 0.3179\n",
      "Epoch 4/100\n",
      "22/22 - 0s - 2ms/step - accuracy: 0.8659 - loss: 0.3110 - val_accuracy: 0.8581 - val_loss: 0.3260\n",
      "Epoch 5/100\n",
      "22/22 - 0s - 2ms/step - accuracy: 0.8719 - loss: 0.2984 - val_accuracy: 0.8747 - val_loss: 0.3121\n",
      "Epoch 6/100\n",
      "22/22 - 0s - 2ms/step - accuracy: 0.8779 - loss: 0.2887 - val_accuracy: 0.8802 - val_loss: 0.3130\n",
      "Epoch 7/100\n",
      "22/22 - 0s - 2ms/step - accuracy: 0.8926 - loss: 0.2761 - val_accuracy: 0.8719 - val_loss: 0.3170\n"
     ]
    },
    {
     "data": {
      "text/plain": [
       "<keras.src.callbacks.history.History at 0x150c12620>"
      ]
     },
     "execution_count": 26,
     "metadata": {},
     "output_type": "execute_result"
    }
   ],
   "source": [
    "input_size = 30\n",
    "output_size = 2\n",
    "\n",
    "hidden_layer_size = 100\n",
    "\n",
    "#define how the model will look like\n",
    "model = tf.keras.Sequential([\n",
    "    tf.keras.layers.Dense(hidden_layer_size, activation='relu'), # 1st hidden layer\n",
    "    tf.keras.layers.Dense(hidden_layer_size, activation='relu'), # 2nd hidden layer\n",
    "    tf.keras.layers.Dense(output_size, activation='softmax') # output layer\n",
    "])\n",
    "\n",
    "# Choose optimizer and loss function\n",
    "model.compile(optimizer='adam', loss='sparse_categorical_crossentropy', metrics=['accuracy'])\n",
    "\n",
    "### Training\n",
    "# Set the batch size\n",
    "batch_size = 100\n",
    "\n",
    "#Set a maximum number of training epochs\n",
    "max_epochs = 100\n",
    "\n",
    "#Set an early stopping mechanism\n",
    "early_stopping = tf.keras.callbacks.EarlyStopping(patience=2)\n",
    "\n",
    "# fit the model\n",
    "model.fit(\n",
    "    train_inputs,\n",
    "    train_targets,\n",
    "    batch_size=batch_size,\n",
    "    epochs=max_epochs,\n",
    "    callbacks=[early_stopping],\n",
    "    validation_data=(validation_inputs, validation_targets),\n",
    "    verbose=2\n",
    "    \n",
    ")"
   ]
  },
  {
   "cell_type": "markdown",
   "id": "808de234-2a78-42d9-9965-f79e99e93d05",
   "metadata": {},
   "source": [
    "### Test the model"
   ]
  },
  {
   "cell_type": "code",
   "execution_count": 29,
   "id": "70d1d88c-f9e8-4acc-b7c8-d45fad25d1da",
   "metadata": {},
   "outputs": [
    {
     "name": "stdout",
     "output_type": "stream",
     "text": [
      "\u001b[1m23/23\u001b[0m \u001b[32m━━━━━━━━━━━━━━━━━━━━\u001b[0m\u001b[37m\u001b[0m \u001b[1m0s\u001b[0m 846us/step - accuracy: 0.8838 - loss: 0.2984\n"
     ]
    }
   ],
   "source": [
    "test_loss, test_accuracy = model.evaluate(test_inputs, test_targets)"
   ]
  },
  {
   "cell_type": "code",
   "execution_count": 31,
   "id": "3fc63713-9e3c-4cbf-9a9b-9dc2af724bcb",
   "metadata": {},
   "outputs": [
    {
     "name": "stdout",
     "output_type": "stream",
     "text": [
      "\n",
      "Test loss: 0.30. Test accuracy: 88.84%\n"
     ]
    }
   ],
   "source": [
    "print('\\nTest loss: {0:.2f}. Test accuracy: {1:.2f}%'.format(test_loss, test_accuracy*100.))"
   ]
  },
  {
   "cell_type": "code",
   "execution_count": null,
   "id": "24a3fa74-9a73-41d1-8f38-cac9ad78b883",
   "metadata": {},
   "outputs": [],
   "source": []
  }
 ],
 "metadata": {
  "kernelspec": {
   "display_name": "Python [conda env:tf_env]",
   "language": "python",
   "name": "conda-env-tf_env-py"
  },
  "language_info": {
   "codemirror_mode": {
    "name": "ipython",
    "version": 3
   },
   "file_extension": ".py",
   "mimetype": "text/x-python",
   "name": "python",
   "nbconvert_exporter": "python",
   "pygments_lexer": "ipython3",
   "version": "3.10.16"
  }
 },
 "nbformat": 4,
 "nbformat_minor": 5
}
